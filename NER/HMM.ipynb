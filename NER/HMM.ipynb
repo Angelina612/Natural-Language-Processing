{
 "cells": [
  {
   "cell_type": "markdown",
   "metadata": {},
   "source": [
    "Angelina Shibu \\\n",
    "2001CS06"
   ]
  },
  {
   "cell_type": "code",
   "execution_count": 7,
   "metadata": {},
   "outputs": [],
   "source": [
    "def load_dataset(file_path):\n",
    "    with open(file_path, 'r') as file:\n",
    "        data = file.read().split('\\n\\n')\n",
    "    return data\n"
   ]
  },
  {
   "cell_type": "code",
   "execution_count": 8,
   "metadata": {},
   "outputs": [
    {
     "name": "stdout",
     "output_type": "stream",
     "text": [
      "@rishi_syd\tO\n",
      "hey\tO\n",
      ",\tO\n",
      "I'm\tO\n",
      "fine\tO\n",
      "!!\tO\n",
      "Thanx\tO\n",
      ":)\tO\n",
      "u\tO\n",
      "too\tO\n",
      "have\tO\n",
      "a\tO\n",
      "great\tO\n",
      "day\tO\n",
      ";)\tO\n"
     ]
    }
   ],
   "source": [
    "lines = load_dataset(\"NER-Dataset-Train.txt\")\n",
    "print(lines[40])"
   ]
  },
  {
   "cell_type": "code",
   "execution_count": 18,
   "metadata": {},
   "outputs": [],
   "source": [
    "tags = set()\n",
    "data = []\n",
    "\n",
    "for line in lines:\n",
    "    words_tags = line.split('\\n')\n",
    "    words = []\n",
    "    tokenized_words = []\n",
    "\n",
    "    for word_tag in words_tags:\n",
    "        if word_tag == '':\n",
    "            continue\n",
    "        words = word_tag.split('\\t')\n",
    "        tag = words[-1]\n",
    "        word = words[0]\n",
    "        tags.add(tag)\n",
    "        tokenized_words.append((word, tag))\n",
    "\n",
    "    data.append(tokenized_words)"
   ]
  },
  {
   "cell_type": "code",
   "execution_count": 19,
   "metadata": {},
   "outputs": [
    {
     "name": "stdout",
     "output_type": "stream",
     "text": [
      "3 ['I', 'O', 'B']\n"
     ]
    }
   ],
   "source": [
    "tags = list(tags)\n",
    "print(len(tags),tags)"
   ]
  },
  {
   "cell_type": "code",
   "execution_count": 20,
   "metadata": {},
   "outputs": [
    {
     "data": {
      "text/plain": [
       "[('@rishi_syd', 'O'),\n",
       " ('hey', 'O'),\n",
       " (',', 'O'),\n",
       " (\"I'm\", 'O'),\n",
       " ('fine', 'O'),\n",
       " ('!!', 'O'),\n",
       " ('Thanx', 'O'),\n",
       " (':)', 'O'),\n",
       " ('u', 'O'),\n",
       " ('too', 'O'),\n",
       " ('have', 'O'),\n",
       " ('a', 'O'),\n",
       " ('great', 'O'),\n",
       " ('day', 'O'),\n",
       " (';)', 'O')]"
      ]
     },
     "metadata": {},
     "output_type": "display_data"
    }
   ],
   "source": [
    "display(data[40])"
   ]
  },
  {
   "cell_type": "code",
   "execution_count": 21,
   "metadata": {},
   "outputs": [],
   "source": [
    "from models import BigramHMM, TrigramHMM"
   ]
  },
  {
   "cell_type": "code",
   "execution_count": 22,
   "metadata": {},
   "outputs": [],
   "source": [
    "import numpy as np\n",
    "import seaborn as sns\n",
    "\n",
    "from sklearn.model_selection import KFold\n",
    "from sklearn.metrics import accuracy_score, precision_score, recall_score, f1_score, classification_report, confusion_matrix\n",
    "\n",
    "def k_fold_cross_validation(data, k, Model):\n",
    "    kf = KFold(n_splits=k, shuffle=True)\n",
    "\n",
    "    combined_actual_tags = []\n",
    "    combined_predicted_tags = []\n",
    "\n",
    "    for i, (train_index, test_index) in enumerate(kf.split(data)):\n",
    "        train_data = [data[i] for i in train_index]\n",
    "        test_data = [data[i] for i in test_index]\n",
    "\n",
    "        model = Model(train_data, tags)\n",
    "        model.train()\n",
    "        \n",
    "        predicted_tags = []\n",
    "        actual_tags = []\n",
    "\n",
    "        for sentence in test_data:\n",
    "            words = [word for word, _ in sentence]\n",
    "            tagged_words = model.viterbi(words)\n",
    "            predicted_tags.extend([tag for _, tag in tagged_words])\n",
    "            actual_tags.extend([tag for _, tag in sentence])\n",
    "\n",
    "        predicted_tags = np.array(predicted_tags).flatten()\n",
    "        actual_tags = np.array(actual_tags).flatten()\n",
    "\n",
    "        print(f\"Fold {i+1} results:\")\n",
    "        print(classification_report(actual_tags, predicted_tags))\n",
    "        combined_actual_tags.extend(actual_tags)\n",
    "        combined_predicted_tags.extend(predicted_tags)\n",
    "\n",
    "    return combined_actual_tags, combined_predicted_tags"
   ]
  },
  {
   "cell_type": "code",
   "execution_count": 23,
   "metadata": {},
   "outputs": [
    {
     "name": "stdout",
     "output_type": "stream",
     "text": [
      "Fold 1 results:\n",
      "              precision    recall  f1-score   support\n",
      "\n",
      "           B       0.79      0.18      0.30       121\n",
      "           I       0.07      0.78      0.12        78\n",
      "           O       0.99      0.78      0.88      3477\n",
      "\n",
      "    accuracy                           0.76      3676\n",
      "   macro avg       0.62      0.58      0.43      3676\n",
      "weighted avg       0.97      0.76      0.84      3676\n",
      "\n",
      "Fold 2 results:\n",
      "              precision    recall  f1-score   support\n",
      "\n",
      "           B       0.57      0.19      0.29       124\n",
      "           I       0.06      0.77      0.11        73\n",
      "           O       0.99      0.76      0.86      3302\n",
      "\n",
      "    accuracy                           0.74      3499\n",
      "   macro avg       0.54      0.57      0.42      3499\n",
      "weighted avg       0.95      0.74      0.82      3499\n",
      "\n",
      "Fold 3 results:\n",
      "              precision    recall  f1-score   support\n",
      "\n",
      "           B       0.83      0.18      0.30       131\n",
      "           I       0.08      0.69      0.15       108\n",
      "           O       0.98      0.79      0.87      3339\n",
      "\n",
      "    accuracy                           0.76      3578\n",
      "   macro avg       0.63      0.55      0.44      3578\n",
      "weighted avg       0.95      0.76      0.83      3578\n",
      "\n",
      "Fold 4 results:\n",
      "              precision    recall  f1-score   support\n",
      "\n",
      "           B       0.71      0.23      0.35       105\n",
      "           I       0.05      0.63      0.09        65\n",
      "           O       0.99      0.77      0.87      3279\n",
      "\n",
      "    accuracy                           0.76      3449\n",
      "   macro avg       0.58      0.54      0.43      3449\n",
      "weighted avg       0.96      0.76      0.84      3449\n",
      "\n",
      "Fold 5 results:\n",
      "              precision    recall  f1-score   support\n",
      "\n",
      "           B       0.64      0.14      0.23       101\n",
      "           I       0.07      0.85      0.12        66\n",
      "           O       0.99      0.77      0.87      3111\n",
      "\n",
      "    accuracy                           0.76      3278\n",
      "   macro avg       0.57      0.59      0.41      3278\n",
      "weighted avg       0.96      0.76      0.83      3278\n",
      "\n"
     ]
    }
   ],
   "source": [
    "actual_tags, predicted_tags = k_fold_cross_validation(data, 5, BigramHMM)\n"
   ]
  },
  {
   "cell_type": "code",
   "execution_count": 24,
   "metadata": {},
   "outputs": [
    {
     "name": "stdout",
     "output_type": "stream",
     "text": [
      "Overall results for bigram model:\n",
      "              precision    recall  f1-score   support\n",
      "\n",
      "           B       0.70      0.19      0.29       582\n",
      "           I       0.07      0.74      0.12       390\n",
      "           O       0.99      0.78      0.87     16508\n",
      "\n",
      "    accuracy                           0.75     17480\n",
      "   macro avg       0.58      0.57      0.43     17480\n",
      "weighted avg       0.96      0.75      0.83     17480\n",
      "\n",
      "Confusion Matrix:\n"
     ]
    },
    {
     "data": {
      "text/plain": [
       "<Axes: >"
      ]
     },
     "execution_count": 24,
     "metadata": {},
     "output_type": "execute_result"
    },
    {
     "data": {
      "image/png": "[encoded data removed]",
      "text/plain": [
       "<Figure size 640x480 with 2 Axes>"
      ]
     },
     "metadata": {},
     "output_type": "display_data"
    }
   ],
   "source": [
    "print(\"Overall results for bigram model:\")\n",
    "print(classification_report(actual_tags, predicted_tags))\n",
    "print(\"Confusion Matrix:\")\n",
    "sns.heatmap(confusion_matrix(actual_tags, predicted_tags, labels=tags), cmap='Greens', xticklabels=tags, yticklabels=tags)"
   ]
  },
  {
   "cell_type": "code",
   "execution_count": 25,
   "metadata": {},
   "outputs": [
    {
     "name": "stdout",
     "output_type": "stream",
     "text": [
      "Fold 1 results:\n",
      "              precision    recall  f1-score   support\n",
      "\n",
      "           B       0.77      0.20      0.32       121\n",
      "           I       0.06      0.84      0.11        98\n",
      "           O       0.99      0.62      0.76      3257\n",
      "\n",
      "    accuracy                           0.61      3476\n",
      "   macro avg       0.61      0.55      0.40      3476\n",
      "weighted avg       0.96      0.61      0.73      3476\n",
      "\n",
      "Fold 2 results:\n",
      "              precision    recall  f1-score   support\n",
      "\n",
      "           B       0.67      0.14      0.23       114\n",
      "           I       0.06      0.83      0.10        88\n",
      "           O       0.99      0.64      0.78      3243\n",
      "\n",
      "    accuracy                           0.63      3445\n",
      "   macro avg       0.57      0.54      0.37      3445\n",
      "weighted avg       0.95      0.63      0.74      3445\n",
      "\n",
      "Fold 3 results:\n",
      "              precision    recall  f1-score   support\n",
      "\n",
      "           B       0.87      0.10      0.18       133\n",
      "           I       0.05      0.91      0.09        76\n",
      "           O       0.99      0.64      0.78      3473\n",
      "\n",
      "    accuracy                           0.63      3682\n",
      "   macro avg       0.64      0.55      0.35      3682\n",
      "weighted avg       0.97      0.63      0.74      3682\n",
      "\n",
      "Fold 4 results:\n",
      "              precision    recall  f1-score   support\n",
      "\n",
      "           B       0.81      0.23      0.35       115\n",
      "           I       0.05      0.88      0.10        78\n",
      "           O       0.99      0.63      0.77      3193\n",
      "\n",
      "    accuracy                           0.62      3386\n",
      "   macro avg       0.62      0.58      0.41      3386\n",
      "weighted avg       0.96      0.62      0.74      3386\n",
      "\n",
      "Fold 5 results:\n",
      "              precision    recall  f1-score   support\n",
      "\n",
      "           B       0.68      0.13      0.22        99\n",
      "           I       0.03      0.88      0.06        50\n",
      "           O       1.00      0.62      0.76      3342\n",
      "\n",
      "    accuracy                           0.61      3491\n",
      "   macro avg       0.57      0.54      0.35      3491\n",
      "weighted avg       0.97      0.61      0.74      3491\n",
      "\n"
     ]
    }
   ],
   "source": [
    "actual_tags, predicted_tags = k_fold_cross_validation(data, 5, TrigramHMM)"
   ]
  },
  {
   "cell_type": "code",
   "execution_count": 26,
   "metadata": {},
   "outputs": [
    {
     "name": "stdout",
     "output_type": "stream",
     "text": [
      "Overall results for trigram model:\n",
      "              precision    recall  f1-score   support\n",
      "\n",
      "           B       0.76      0.16      0.26       582\n",
      "           I       0.05      0.86      0.09       390\n",
      "           O       0.99      0.63      0.77     16508\n",
      "\n",
      "    accuracy                           0.62     17480\n",
      "   macro avg       0.60      0.55      0.37     17480\n",
      "weighted avg       0.96      0.62      0.74     17480\n",
      "\n",
      "Confusion Matrix:\n"
     ]
    },
    {
     "data": {
      "text/plain": [
       "<Axes: >"
      ]
     },
     "execution_count": 26,
     "metadata": {},
     "output_type": "execute_result"
    },
    {
     "data": {
      "image/png": "[encoded data removed]",
      "text/plain": [
       "<Figure size 640x480 with 2 Axes>"
      ]
     },
     "metadata": {},
     "output_type": "display_data"
    }
   ],
   "source": [
    "print(\"Overall results for trigram model:\")\n",
    "print(classification_report(actual_tags, predicted_tags))\n",
    "print(\"Confusion Matrix:\")\n",
    "sns.heatmap(confusion_matrix(actual_tags, predicted_tags, labels=tags), cmap='Greens', xticklabels=tags, yticklabels=tags)"
   ]
  }
 ],
 "metadata": {
  "kernelspec": {
   "display_name": "Python 3 (ipykernel)",
   "language": "python",
   "name": "python3"
  },
  "language_info": {
   "codemirror_mode": {
    "name": "ipython",
    "version": 3
   },
   "file_extension": ".py",
   "mimetype": "text/x-python",
   "name": "python",
   "nbconvert_exporter": "python",
   "pygments_lexer": "ipython3",
   "version": "3.8.18"
  }
 },
 "nbformat": 4,
 "nbformat_minor": 4
}
