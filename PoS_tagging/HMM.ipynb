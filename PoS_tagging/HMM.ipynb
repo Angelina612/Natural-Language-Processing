{
 "cells": [
  {
   "cell_type": "markdown",
   "metadata": {},
   "source": [
    "Angelina Shibu \\\n",
    "2001CS06"
   ]
  },
  {
   "cell_type": "code",
   "execution_count": 1,
   "metadata": {},
   "outputs": [],
   "source": [
    "def load_dataset(file_path):\n",
    "    with open(file_path, 'r') as file:\n",
    "        data = file.read().split('\\n')\n",
    "    return data\n"
   ]
  },
  {
   "cell_type": "code",
   "execution_count": 2,
   "metadata": {},
   "outputs": [
    {
     "name": "stdout",
     "output_type": "stream",
     "text": [
      "They/PRON estimate/VERB further/ADV that/ADP with/ADP sufficient/ADJ experience/NOUN and/CONJ when/ADV cost-data/NOUN of/ADP compact/ADJ cars/NOUN is/VERB compiled/VERB ,/. the/DET break-even/ADJ point/NOUN may/VERB be/VERB reduced/VERB to/ADP 7,500/NUM miles/NOUN of/ADP travel/NOUN per/ADP year/NOUN ./. \n"
     ]
    }
   ],
   "source": [
    "lines = load_dataset('Brown_train.txt')\n",
    "print(lines[40])"
   ]
  },
  {
   "cell_type": "code",
   "execution_count": 3,
   "metadata": {},
   "outputs": [],
   "source": [
    "tags = set()\n",
    "data = []\n",
    "\n",
    "for line in lines:\n",
    "    words_tags = line.split(' ')\n",
    "    words = []\n",
    "    tokenized_words = []\n",
    "\n",
    "    for word_tag in words_tags:\n",
    "        if word_tag == '':\n",
    "            continue\n",
    "        words = word_tag.split('/')\n",
    "        tag = words[-1]\n",
    "        word = '/'.join(words[:-1])\n",
    "        tags.add(tag)\n",
    "        tokenized_words.append((word, tag))\n",
    "\n",
    "    data.append(tokenized_words)"
   ]
  },
  {
   "cell_type": "code",
   "execution_count": 4,
   "metadata": {},
   "outputs": [
    {
     "name": "stdout",
     "output_type": "stream",
     "text": [
      "12 ['ADP', '.', 'NUM', 'ADJ', 'CONJ', 'DET', 'X', 'ADV', 'VERB', 'PRT', 'PRON', 'NOUN']\n"
     ]
    }
   ],
   "source": [
    "tags = list(tags)\n",
    "print(len(tags),tags)"
   ]
  },
  {
   "cell_type": "code",
   "execution_count": 5,
   "metadata": {},
   "outputs": [
    {
     "data": {
      "text/plain": [
       "[('They', 'PRON'),\n",
       " ('estimate', 'VERB'),\n",
       " ('further', 'ADV'),\n",
       " ('that', 'ADP'),\n",
       " ('with', 'ADP'),\n",
       " ('sufficient', 'ADJ'),\n",
       " ('experience', 'NOUN'),\n",
       " ('and', 'CONJ'),\n",
       " ('when', 'ADV'),\n",
       " ('cost-data', 'NOUN'),\n",
       " ('of', 'ADP'),\n",
       " ('compact', 'ADJ'),\n",
       " ('cars', 'NOUN'),\n",
       " ('is', 'VERB'),\n",
       " ('compiled', 'VERB'),\n",
       " (',', '.'),\n",
       " ('the', 'DET'),\n",
       " ('break-even', 'ADJ'),\n",
       " ('point', 'NOUN'),\n",
       " ('may', 'VERB'),\n",
       " ('be', 'VERB'),\n",
       " ('reduced', 'VERB'),\n",
       " ('to', 'ADP'),\n",
       " ('7,500', 'NUM'),\n",
       " ('miles', 'NOUN'),\n",
       " ('of', 'ADP'),\n",
       " ('travel', 'NOUN'),\n",
       " ('per', 'ADP'),\n",
       " ('year', 'NOUN'),\n",
       " ('.', '.')]"
      ]
     },
     "metadata": {},
     "output_type": "display_data"
    }
   ],
   "source": [
    "display(data[40])"
   ]
  },
  {
   "cell_type": "code",
   "execution_count": 6,
   "metadata": {},
   "outputs": [],
   "source": [
    "from models import BigramHMM, TrigramHMM"
   ]
  },
  {
   "cell_type": "code",
   "execution_count": 7,
   "metadata": {},
   "outputs": [],
   "source": [
    "import numpy as np\n",
    "import seaborn as sns\n",
    "\n",
    "from sklearn.model_selection import KFold\n",
    "from sklearn.metrics import accuracy_score, precision_score, recall_score, f1_score, classification_report, confusion_matrix\n",
    "\n",
    "def k_fold_cross_validation(data, k, Model):\n",
    "    kf = KFold(n_splits=k, shuffle=True)\n",
    "\n",
    "    combined_actual_tags = []\n",
    "    combined_predicted_tags = []\n",
    "\n",
    "    for i, (train_index, test_index) in enumerate(kf.split(data)):\n",
    "        train_data = [data[i] for i in train_index]\n",
    "        test_data = [data[i] for i in test_index]\n",
    "\n",
    "        model = Model(train_data, tags)\n",
    "        model.train()\n",
    "        \n",
    "        predicted_tags = []\n",
    "        actual_tags = []\n",
    "\n",
    "        for sentence in test_data:\n",
    "            words = [word for word, _ in sentence]\n",
    "            tagged_words = model.viterbi(words)\n",
    "            predicted_tags.extend([tag for _, tag in tagged_words])\n",
    "            actual_tags.extend([tag for _, tag in sentence])\n",
    "\n",
    "        predicted_tags = np.array(predicted_tags).flatten()\n",
    "        actual_tags = np.array(actual_tags).flatten()\n",
    "\n",
    "        print(f\"Fold {i+1} results:\")\n",
    "        print(classification_report(actual_tags, predicted_tags))\n",
    "        combined_actual_tags.extend(actual_tags)\n",
    "        combined_predicted_tags.extend(predicted_tags)\n",
    "\n",
    "    return combined_actual_tags, combined_predicted_tags"
   ]
  },
  {
   "cell_type": "code",
   "execution_count": 8,
   "metadata": {},
   "outputs": [
    {
     "name": "stdout",
     "output_type": "stream",
     "text": [
      "Fold 1 results:\n",
      "              precision    recall  f1-score   support\n",
      "\n",
      "           .       1.00      1.00      1.00     14330\n",
      "         ADJ       0.92      0.85      0.89      7284\n",
      "         ADP       0.73      0.93      0.81     13295\n",
      "         ADV       0.91      0.85      0.88      5543\n",
      "        CONJ       1.00      0.99      0.99      3475\n",
      "         DET       0.98      0.99      0.98     12693\n",
      "        NOUN       0.97      0.89      0.93     24184\n",
      "         NUM       0.98      0.91      0.94      1378\n",
      "        PRON       0.99      0.94      0.97      5338\n",
      "         PRT       0.74      0.81      0.77      3161\n",
      "        VERB       0.98      0.93      0.96     17794\n",
      "           X       0.84      0.32      0.46       117\n",
      "\n",
      "    accuracy                           0.93    108592\n",
      "   macro avg       0.92      0.87      0.88    108592\n",
      "weighted avg       0.93      0.93      0.93    108592\n",
      "\n",
      "Fold 2 results:\n",
      "              precision    recall  f1-score   support\n",
      "\n",
      "           .       1.00      1.00      1.00     14281\n",
      "         ADJ       0.92      0.86      0.88      7246\n",
      "         ADP       0.73      0.93      0.82     13046\n",
      "         ADV       0.93      0.84      0.88      5515\n",
      "        CONJ       0.99      0.99      0.99      3540\n",
      "         DET       0.98      0.99      0.98     12520\n",
      "        NOUN       0.97      0.89      0.93     23931\n",
      "         NUM       0.95      0.90      0.93      1328\n",
      "        PRON       0.99      0.95      0.97      5416\n",
      "         PRT       0.74      0.81      0.77      3061\n",
      "        VERB       0.98      0.94      0.96     17999\n",
      "           X       0.80      0.32      0.46       116\n",
      "\n",
      "    accuracy                           0.93    107999\n",
      "   macro avg       0.91      0.87      0.88    107999\n",
      "weighted avg       0.94      0.93      0.93    107999\n",
      "\n",
      "Fold 3 results:\n",
      "              precision    recall  f1-score   support\n",
      "\n",
      "           .       1.00      1.00      1.00     14478\n",
      "         ADJ       0.91      0.85      0.88      7385\n",
      "         ADP       0.72      0.92      0.81     13508\n",
      "         ADV       0.92      0.85      0.88      5605\n",
      "        CONJ       0.99      0.99      0.99      3736\n",
      "         DET       0.98      0.99      0.98     12858\n",
      "        NOUN       0.97      0.89      0.93     24617\n",
      "         NUM       0.96      0.90      0.92      1354\n",
      "        PRON       0.99      0.94      0.96      5553\n",
      "         PRT       0.72      0.81      0.76      3049\n",
      "        VERB       0.98      0.93      0.95     18286\n",
      "           X       0.86      0.31      0.46       115\n",
      "\n",
      "    accuracy                           0.93    110544\n",
      "   macro avg       0.92      0.87      0.88    110544\n",
      "weighted avg       0.93      0.93      0.93    110544\n",
      "\n",
      "Fold 4 results:\n",
      "              precision    recall  f1-score   support\n",
      "\n",
      "           .       1.00      1.00      1.00     14160\n",
      "         ADJ       0.92      0.86      0.89      7276\n",
      "         ADP       0.71      0.92      0.80     12854\n",
      "         ADV       0.92      0.86      0.89      5498\n",
      "        CONJ       0.99      1.00      0.99      3472\n",
      "         DET       0.98      0.99      0.98     12594\n",
      "        NOUN       0.97      0.89      0.93     23893\n",
      "         NUM       0.97      0.91      0.94      1283\n",
      "        PRON       0.99      0.94      0.97      5470\n",
      "         PRT       0.72      0.80      0.76      3081\n",
      "        VERB       0.98      0.93      0.96     17834\n",
      "           X       0.84      0.22      0.35       138\n",
      "\n",
      "    accuracy                           0.93    107553\n",
      "   macro avg       0.92      0.86      0.87    107553\n",
      "weighted avg       0.94      0.93      0.93    107553\n",
      "\n",
      "Fold 5 results:\n",
      "              precision    recall  f1-score   support\n",
      "\n",
      "           .       1.00      1.00      1.00     14306\n",
      "         ADJ       0.91      0.85      0.88      7275\n",
      "         ADP       0.72      0.93      0.81     13158\n",
      "         ADV       0.91      0.86      0.88      5522\n",
      "        CONJ       0.99      0.99      0.99      3556\n",
      "         DET       0.98      0.99      0.98     12499\n",
      "        NOUN       0.97      0.89      0.93     24145\n",
      "         NUM       0.94      0.91      0.93      1321\n",
      "        PRON       0.99      0.94      0.97      5452\n",
      "         PRT       0.74      0.80      0.77      3270\n",
      "        VERB       0.98      0.93      0.96     17853\n",
      "           X       0.91      0.20      0.33       104\n",
      "\n",
      "    accuracy                           0.93    108461\n",
      "   macro avg       0.92      0.86      0.87    108461\n",
      "weighted avg       0.93      0.93      0.93    108461\n",
      "\n"
     ]
    }
   ],
   "source": [
    "actual_tags, predicted_tags = k_fold_cross_validation(data, 5, BigramHMM)\n"
   ]
  },
  {
   "cell_type": "code",
   "execution_count": 9,
   "metadata": {},
   "outputs": [
    {
     "name": "stdout",
     "output_type": "stream",
     "text": [
      "Overall results for bigram model:\n",
      "              precision    recall  f1-score   support\n",
      "\n",
      "           .       1.00      1.00      1.00     71555\n",
      "         ADJ       0.92      0.85      0.88     36466\n",
      "         ADP       0.72      0.93      0.81     65861\n",
      "         ADV       0.92      0.85      0.88     27683\n",
      "        CONJ       0.99      0.99      0.99     17779\n",
      "         DET       0.98      0.99      0.98     63164\n",
      "        NOUN       0.97      0.89      0.93    120770\n",
      "         NUM       0.96      0.91      0.93      6664\n",
      "        PRON       0.99      0.94      0.97     27229\n",
      "         PRT       0.73      0.81      0.77     15622\n",
      "        VERB       0.98      0.93      0.96     89766\n",
      "           X       0.84      0.27      0.41       590\n",
      "\n",
      "    accuracy                           0.93    543149\n",
      "   macro avg       0.92      0.86      0.88    543149\n",
      "weighted avg       0.94      0.93      0.93    543149\n",
      "\n",
      "Confusion Matrix:\n"
     ]
    },
    {
     "data": {
      "text/plain": [
       "<Axes: >"
      ]
     },
     "execution_count": 9,
     "metadata": {},
     "output_type": "execute_result"
    },
    {
     "data": {
      "image/png": "[encoded data removed]",
      "text/plain": [
       "<Figure size 640x480 with 2 Axes>"
      ]
     },
     "metadata": {},
     "output_type": "display_data"
    }
   ],
   "source": [
    "print(\"Overall results for bigram model:\")\n",
    "print(classification_report(actual_tags, predicted_tags))\n",
    "print(\"Confusion Matrix:\")\n",
    "sns.heatmap(confusion_matrix(actual_tags, predicted_tags, labels=tags), cmap='Greens', xticklabels=tags, yticklabels=tags)"
   ]
  },
  {
   "cell_type": "code",
   "execution_count": 10,
   "metadata": {},
   "outputs": [
    {
     "name": "stdout",
     "output_type": "stream",
     "text": [
      "Fold 1 results:\n",
      "              precision    recall  f1-score   support\n",
      "\n",
      "           .       1.00      0.95      0.97     14187\n",
      "         ADJ       0.91      0.84      0.87      7137\n",
      "         ADP       0.56      0.93      0.70     13004\n",
      "         ADV       0.92      0.77      0.84      5674\n",
      "        CONJ       0.99      0.92      0.95      3583\n",
      "         DET       0.98      0.90      0.94     12500\n",
      "        NOUN       0.97      0.87      0.92     23794\n",
      "         NUM       0.96      0.84      0.89      1304\n",
      "        PRON       0.99      0.75      0.85      5615\n",
      "         PRT       0.75      0.70      0.72      3229\n",
      "        VERB       0.98      0.92      0.95     18106\n",
      "           X       0.21      0.20      0.21       104\n",
      "\n",
      "    accuracy                           0.88    108237\n",
      "   macro avg       0.85      0.80      0.82    108237\n",
      "weighted avg       0.91      0.88      0.89    108237\n",
      "\n",
      "Fold 2 results:\n",
      "              precision    recall  f1-score   support\n",
      "\n",
      "           .       1.00      0.95      0.97     14336\n",
      "         ADJ       0.91      0.85      0.88      7331\n",
      "         ADP       0.56      0.93      0.70     13235\n",
      "         ADV       0.92      0.77      0.83      5569\n",
      "        CONJ       0.99      0.93      0.96      3489\n",
      "         DET       0.98      0.90      0.94     12785\n",
      "        NOUN       0.96      0.87      0.91     24116\n",
      "         NUM       0.97      0.83      0.90      1297\n",
      "        PRON       0.99      0.75      0.85      5437\n",
      "         PRT       0.74      0.69      0.71      3153\n",
      "        VERB       0.98      0.92      0.95     17992\n",
      "           X       0.84      0.21      0.34        98\n",
      "\n",
      "    accuracy                           0.88    108838\n",
      "   macro avg       0.90      0.80      0.83    108838\n",
      "weighted avg       0.91      0.88      0.89    108838\n",
      "\n",
      "Fold 3 results:\n",
      "              precision    recall  f1-score   support\n",
      "\n",
      "           .       1.00      0.95      0.97     14242\n",
      "         ADJ       0.91      0.85      0.88      7125\n",
      "         ADP       0.56      0.92      0.70     12972\n",
      "         ADV       0.92      0.76      0.83      5525\n",
      "        CONJ       0.99      0.93      0.96      3589\n",
      "         DET       0.97      0.90      0.94     12537\n",
      "        NOUN       0.97      0.87      0.92     23963\n",
      "         NUM       0.97      0.84      0.90      1268\n",
      "        PRON       0.99      0.74      0.85      5359\n",
      "         PRT       0.73      0.70      0.71      3076\n",
      "        VERB       0.98      0.92      0.95     17699\n",
      "           X       0.25      0.39      0.31        82\n",
      "\n",
      "    accuracy                           0.88    107437\n",
      "   macro avg       0.85      0.81      0.83    107437\n",
      "weighted avg       0.91      0.88      0.89    107437\n",
      "\n",
      "Fold 4 results:\n",
      "              precision    recall  f1-score   support\n",
      "\n",
      "           .       1.00      0.95      0.97     14421\n",
      "         ADJ       0.91      0.85      0.88      7326\n",
      "         ADP       0.56      0.93      0.70     13269\n",
      "         ADV       0.92      0.75      0.83      5375\n",
      "        CONJ       0.99      0.94      0.96      3512\n",
      "         DET       0.98      0.90      0.94     12559\n",
      "        NOUN       0.97      0.87      0.92     24334\n",
      "         NUM       0.96      0.83      0.89      1458\n",
      "        PRON       0.99      0.74      0.85      5394\n",
      "         PRT       0.72      0.71      0.71      3086\n",
      "        VERB       0.98      0.92      0.95     17883\n",
      "           X       0.73      0.16      0.26       153\n",
      "\n",
      "    accuracy                           0.88    108770\n",
      "   macro avg       0.89      0.80      0.82    108770\n",
      "weighted avg       0.91      0.88      0.89    108770\n",
      "\n",
      "Fold 5 results:\n",
      "              precision    recall  f1-score   support\n",
      "\n",
      "           .       1.00      0.95      0.97     14369\n",
      "         ADJ       0.91      0.85      0.88      7547\n",
      "         ADP       0.57      0.93      0.70     13381\n",
      "         ADV       0.92      0.76      0.83      5540\n",
      "        CONJ       0.99      0.93      0.96      3606\n",
      "         DET       0.98      0.90      0.94     12783\n",
      "        NOUN       0.97      0.87      0.91     24563\n",
      "         NUM       0.95      0.84      0.89      1337\n",
      "        PRON       0.99      0.75      0.85      5424\n",
      "         PRT       0.73      0.70      0.71      3078\n",
      "        VERB       0.98      0.92      0.95     18086\n",
      "           X       0.22      0.16      0.18       153\n",
      "\n",
      "    accuracy                           0.88    109867\n",
      "   macro avg       0.85      0.80      0.82    109867\n",
      "weighted avg       0.91      0.88      0.89    109867\n",
      "\n"
     ]
    }
   ],
   "source": [
    "actual_tags, predicted_tags = k_fold_cross_validation(data, 5, TrigramHMM)"
   ]
  },
  {
   "cell_type": "code",
   "execution_count": 11,
   "metadata": {},
   "outputs": [
    {
     "name": "stdout",
     "output_type": "stream",
     "text": [
      "Overall results for trigram model:\n",
      "              precision    recall  f1-score   support\n",
      "\n",
      "           .       1.00      0.95      0.97     71555\n",
      "         ADJ       0.91      0.85      0.88     36466\n",
      "         ADP       0.56      0.93      0.70     65861\n",
      "         ADV       0.92      0.76      0.83     27683\n",
      "        CONJ       0.99      0.93      0.96     17779\n",
      "         DET       0.98      0.90      0.94     63164\n",
      "        NOUN       0.97      0.87      0.92    120770\n",
      "         NUM       0.96      0.83      0.89      6664\n",
      "        PRON       0.99      0.75      0.85     27229\n",
      "         PRT       0.73      0.70      0.71     15622\n",
      "        VERB       0.98      0.92      0.95     89766\n",
      "           X       0.31      0.21      0.25       590\n",
      "\n",
      "    accuracy                           0.88    543149\n",
      "   macro avg       0.86      0.80      0.82    543149\n",
      "weighted avg       0.91      0.88      0.89    543149\n",
      "\n",
      "Confusion Matrix:\n"
     ]
    },
    {
     "data": {
      "text/plain": [
       "<Axes: >"
      ]
     },
     "execution_count": 11,
     "metadata": {},
     "output_type": "execute_result"
    },
    {
     "data": {
      "image/png": "[encoded data removed]",
      "text/plain": [
       "<Figure size 640x480 with 2 Axes>"
      ]
     },
     "metadata": {},
     "output_type": "display_data"
    }
   ],
   "source": [
    "print(\"Overall results for trigram model:\")\n",
    "print(classification_report(actual_tags, predicted_tags))\n",
    "print(\"Confusion Matrix:\")\n",
    "sns.heatmap(confusion_matrix(actual_tags, predicted_tags, labels=tags), cmap='Greens', xticklabels=tags, yticklabels=tags)"
   ]
  }
 ],
 "metadata": {
  "kernelspec": {
   "display_name": "Python 3 (ipykernel)",
   "language": "python",
   "name": "python3"
  },
  "language_info": {
   "codemirror_mode": {
    "name": "ipython",
    "version": 3
   },
   "file_extension": ".py",
   "mimetype": "text/x-python",
   "name": "python",
   "nbconvert_exporter": "python",
   "pygments_lexer": "ipython3",
   "version": "3.8.18"
  }
 },
 "nbformat": 4,
 "nbformat_minor": 4
}
